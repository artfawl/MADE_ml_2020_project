{
 "cells": [
  {
   "cell_type": "code",
   "execution_count": 1,
   "metadata": {},
   "outputs": [],
   "source": [
    "import numpy as np\n",
    "import pandas as pd\n",
    "import warnings\n",
    "warnings.filterwarnings('ignore')\n",
    "pd.set_option('display.max_rows', 100)\n",
    "pd.set_option('display.max_columns', 100)\n",
    "from sklearn.feature_extraction.text import CountVectorizer\n",
    "from annoy import AnnoyIndex\n",
    "import pickle\n",
    "from gensim.models import Word2Vec\n",
    "import streamlit as st\n",
    "import re"
   ]
  },
  {
   "cell_type": "code",
   "execution_count": 2,
   "metadata": {},
   "outputs": [],
   "source": [
    "class Model:\n",
    "    def __init__(self):\n",
    "        self.df = pd.read_csv('main_data.csv')\n",
    "        self.w2v_model = Word2Vec.load('descr_w2v.model')\n",
    "        self.genre_cv = CountVectorizer(decode_error=\"replace\", vocabulary=pickle.load(open('genres_vec.pkl', \"rb\")))\n",
    "        self.annot_ann = AnnoyIndex(300 + len(self.genre_cv.vocabulary), 'angular')\n",
    "        self.annot_ann.load('descr.ann')\n",
    "        with open('genr_list.pkl', 'rb') as f:\n",
    "            self.genre_list = pickle.load(f)\n",
    "\n",
    "    def _clean(self, text):\n",
    "        text = text.lower()\n",
    "        text = re.sub(r'[^\\w\\s]', '', text)\n",
    "        text = re.sub(r'\\_', ' ', text)\n",
    "        return text\n",
    "\n",
    "    def find(self, name):\n",
    "        name = set(self._clean(name).split())\n",
    "        best = [0, 0]\n",
    "        for i in range(len(self.df)):\n",
    "            temp = set(self.df['title'][i].lower().split())\n",
    "            if temp == name:\n",
    "                return i\n",
    "            elif len(name.intersection(temp)) > best[0]:\n",
    "                best[0] = len(name.intersection(temp))\n",
    "                best[1] = i\n",
    "        return best[1]\n",
    "\n",
    "    def to_vec(self, sent, genre):\n",
    "        sent = sent.split()\n",
    "        v = np.zeros((300,))\n",
    "        for word in sent:\n",
    "            if word in self.w2v_model:\n",
    "                v += self.w2v_model.wv[word]\n",
    "        v /= len(sent)\n",
    "        gen = np.array(self.genre_cv.transform([genre]).todense())[0]\n",
    "        v = np.hstack((v, gen))\n",
    "        return v\n",
    "\n",
    "    def give_books_name(self, name):\n",
    "        ind = self.find(name)\n",
    "        print(ind)\n",
    "        av = self.to_vec(self.df['full_text'][ind], self.df['genres_x'][ind])\n",
    "        arr_idx = self.annot_ann.get_nns_by_vector(av, 10)\n",
    "        res = self.df.iloc[arr_idx, :].sort_values(by=['freq'], ascending=False).index\n",
    "        return self.df[['author', 'title']].iloc[res]\n",
    "\n",
    "    def give_books_descr(self, genres):\n",
    "        key_words = ' '.join(genres)\n",
    "        for i in range(len(genres)):\n",
    "            genres[i] = self.genre_list[genres[i]]\n",
    "        genres = ' '.join(genres)\n",
    "        vec = self.to_vec(key_words, genres)\n",
    "        arr_idx = self.annot_ann.get_nns_by_vector(vec, 50)\n",
    "        res = self.df.iloc[arr_idx, :].sort_values(by=['freq'], ascending=False).index\n",
    "        return self.df[['author', 'title']].iloc[res]"
   ]
  },
  {
   "cell_type": "code",
   "execution_count": 3,
   "metadata": {},
   "outputs": [
    {
     "name": "stderr",
     "output_type": "stream",
     "text": [
      "2020-12-27 17:34:44.634 INFO    gensim.utils: loading Word2Vec object from descr_w2v.model\n",
      "2020-12-27 17:34:45.137 INFO    gensim.utils: loading wv recursively from descr_w2v.model.wv.* with mmap=None\n",
      "2020-12-27 17:34:45.139 INFO    gensim.utils: setting ignored attribute vectors_norm to None\n",
      "2020-12-27 17:34:45.140 INFO    gensim.utils: loading vocabulary recursively from descr_w2v.model.vocabulary.* with mmap=None\n",
      "2020-12-27 17:34:45.142 INFO    gensim.utils: loading trainables recursively from descr_w2v.model.trainables.* with mmap=None\n",
      "2020-12-27 17:34:45.143 INFO    gensim.utils: setting ignored attribute cum_table to None\n",
      "2020-12-27 17:34:45.145 INFO    gensim.utils: loaded descr_w2v.model\n"
     ]
    }
   ],
   "source": [
    "m = Model()"
   ]
  },
  {
   "cell_type": "code",
   "execution_count": 6,
   "metadata": {},
   "outputs": [
    {
     "name": "stdout",
     "output_type": "stream",
     "text": [
      "6557\n"
     ]
    },
    {
     "data": {
      "text/html": [
       "<div>\n",
       "<style scoped>\n",
       "    .dataframe tbody tr th:only-of-type {\n",
       "        vertical-align: middle;\n",
       "    }\n",
       "\n",
       "    .dataframe tbody tr th {\n",
       "        vertical-align: top;\n",
       "    }\n",
       "\n",
       "    .dataframe thead th {\n",
       "        text-align: right;\n",
       "    }\n",
       "</style>\n",
       "<table border=\"1\" class=\"dataframe\">\n",
       "  <thead>\n",
       "    <tr style=\"text-align: right;\">\n",
       "      <th></th>\n",
       "      <th>author</th>\n",
       "      <th>title</th>\n",
       "    </tr>\n",
       "  </thead>\n",
       "  <tbody>\n",
       "    <tr>\n",
       "      <th>9733</th>\n",
       "      <td>Андрей Олегович Белянин</td>\n",
       "      <td>дочь белого волка</td>\n",
       "    </tr>\n",
       "    <tr>\n",
       "      <th>10500</th>\n",
       "      <td>Дан Лебэл</td>\n",
       "      <td>класс сталкер</td>\n",
       "    </tr>\n",
       "    <tr>\n",
       "      <th>6557</th>\n",
       "      <td>Дмитрий Рус</td>\n",
       "      <td>играть чтобы жить кн i срыв кн ii клан</td>\n",
       "    </tr>\n",
       "    <tr>\n",
       "      <th>12338</th>\n",
       "      <td>Шеннон А. Чакраборти</td>\n",
       "      <td>латунный город</td>\n",
       "    </tr>\n",
       "    <tr>\n",
       "      <th>14211</th>\n",
       "      <td>Морган Райс</td>\n",
       "      <td>дар оружия</td>\n",
       "    </tr>\n",
       "    <tr>\n",
       "      <th>5378</th>\n",
       "      <td>Антон Витальевич Демченко</td>\n",
       "      <td>охотник на духов</td>\n",
       "    </tr>\n",
       "    <tr>\n",
       "      <th>5242</th>\n",
       "      <td>Сергей Степаненко</td>\n",
       "      <td>три кольца небесной сферы</td>\n",
       "    </tr>\n",
       "    <tr>\n",
       "      <th>4475</th>\n",
       "      <td>Олег Николаевич Борисов</td>\n",
       "      <td>палач</td>\n",
       "    </tr>\n",
       "    <tr>\n",
       "      <th>16764</th>\n",
       "      <td>Вадим Косинцев</td>\n",
       "      <td>боевой устав гоблина</td>\n",
       "    </tr>\n",
       "    <tr>\n",
       "      <th>5801</th>\n",
       "      <td>Морган Райс</td>\n",
       "      <td>власть королев</td>\n",
       "    </tr>\n",
       "  </tbody>\n",
       "</table>\n",
       "</div>"
      ],
      "text/plain": [
       "                           author                                   title\n",
       "9733     Андрей Олегович Белянин                        дочь белого волка\n",
       "10500                  Дан Лебэл                            класс сталкер\n",
       "6557                 Дмитрий Рус   играть чтобы жить кн i срыв кн ii клан\n",
       "12338       Шеннон А. Чакраборти                           латунный город\n",
       "14211                Морган Райс                               дар оружия\n",
       "5378   Антон Витальевич Демченко                         охотник на духов\n",
       "5242           Сергей Степаненко                три кольца небесной сферы\n",
       "4475     Олег Николаевич Борисов                                    палач\n",
       "16764             Вадим Косинцев                     боевой устав гоблина\n",
       "5801                 Морган Райс                           власть королев"
      ]
     },
     "execution_count": 6,
     "metadata": {},
     "output_type": "execute_result"
    }
   ],
   "source": [
    "m.give_books_name('Играть чтобы жить')"
   ]
  },
  {
   "cell_type": "code",
   "execution_count": null,
   "metadata": {},
   "outputs": [],
   "source": []
  }
 ],
 "metadata": {
  "kernelspec": {
   "display_name": "Python 3",
   "language": "python",
   "name": "python3"
  },
  "language_info": {
   "codemirror_mode": {
    "name": "ipython",
    "version": 3
   },
   "file_extension": ".py",
   "mimetype": "text/x-python",
   "name": "python",
   "nbconvert_exporter": "python",
   "pygments_lexer": "ipython3",
   "version": "3.7.3"
  },
  "toc": {
   "base_numbering": 1,
   "nav_menu": {},
   "number_sections": true,
   "sideBar": true,
   "skip_h1_title": false,
   "title_cell": "Table of Contents",
   "title_sidebar": "Contents",
   "toc_cell": false,
   "toc_position": {},
   "toc_section_display": true,
   "toc_window_display": false
  },
  "varInspector": {
   "cols": {
    "lenName": 16,
    "lenType": 16,
    "lenVar": 40
   },
   "kernels_config": {
    "python": {
     "delete_cmd_postfix": "",
     "delete_cmd_prefix": "del ",
     "library": "var_list.py",
     "varRefreshCmd": "print(var_dic_list())"
    },
    "r": {
     "delete_cmd_postfix": ") ",
     "delete_cmd_prefix": "rm(",
     "library": "var_list.r",
     "varRefreshCmd": "cat(var_dic_list()) "
    }
   },
   "types_to_exclude": [
    "module",
    "function",
    "builtin_function_or_method",
    "instance",
    "_Feature"
   ],
   "window_display": false
  }
 },
 "nbformat": 4,
 "nbformat_minor": 2
}
