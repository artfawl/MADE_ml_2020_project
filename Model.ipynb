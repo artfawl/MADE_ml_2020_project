{
 "cells": [
  {
   "cell_type": "code",
   "execution_count": 2,
   "metadata": {},
   "outputs": [],
   "source": [
    "import numpy as np\n",
    "import pandas as pd\n",
    "import matplotlib.pyplot as plt\n",
    "%matplotlib inline\n",
    "import warnings\n",
    "warnings.filterwarnings('ignore')\n",
    "pd.set_option('display.max_rows', 100)\n",
    "pd.set_option('display.max_columns', 100)\n",
    "from sklearn.feature_extraction.text import CountVectorizer\n",
    "from annoy import AnnoyIndex\n",
    "import pickle\n",
    "import re"
   ]
  },
  {
   "cell_type": "code",
   "execution_count": 3,
   "metadata": {},
   "outputs": [],
   "source": [
    "df = pd.read_csv('main_data.csv')"
   ]
  },
  {
   "cell_type": "markdown",
   "metadata": {},
   "source": [
    "Датасет был подготовлен в другом ноутбуке. Обычная чистка текстов и других данных. \n",
    "Плюс очищение 'annotation'от шума с помощью TFIDF.feature_extraction()"
   ]
  },
  {
   "cell_type": "code",
   "execution_count": 8,
   "metadata": {},
   "outputs": [
    {
     "data": {
      "text/plain": [
       "'мир мир который давно сотрясали войны могущественных магов желавших обрести божественное величие власть мир который поднимается руин время надежд покой процветание прекрасное время жить спокойно счастливо могут мятежные души обрести таком мире покой сокровища древних магов бесценные творения неоценимые знания терзает души юнцов почтенных мужей возможность вмиг разбогатеть конца дней жить роскоши многих толкает стезю охотника сокровищами наш герой устоял искусом влился ряды этих безрассудно смелых людей пусть волнует богатство стремится знаниям это меняет главного жизнь охотника сокровищами древних магов очень коротка выбор сделан назад пути'"
      ]
     },
     "execution_count": 8,
     "metadata": {},
     "output_type": "execute_result"
    }
   ],
   "source": [
    "df['annotation'][1112]"
   ]
  },
  {
   "cell_type": "code",
   "execution_count": 9,
   "metadata": {},
   "outputs": [
    {
     "data": {
      "text/plain": [
       "'магов сокровищами охотника покой древних обрести души неоценимые искусом почтенных мир влился желавших устоял стезю'"
      ]
     },
     "execution_count": 9,
     "metadata": {},
     "output_type": "execute_result"
    }
   ],
   "source": [
    "df['full_text'][1112]"
   ]
  },
  {
   "cell_type": "code",
   "execution_count": 3,
   "metadata": {},
   "outputs": [],
   "source": [
    "genres = set()\n",
    "for i in range(len(df)):\n",
    "    genres = genres.union(set(df.genres_x[i].split()))"
   ]
  },
  {
   "cell_type": "code",
   "execution_count": 4,
   "metadata": {},
   "outputs": [
    {
     "data": {
      "text/plain": [
       "{'18',\n",
       " '19',\n",
       " '20',\n",
       " 'None',\n",
       " 'action',\n",
       " 'adv',\n",
       " 'adventure',\n",
       " 'alternative',\n",
       " 'anecdote',\n",
       " 'animal',\n",
       " 'ant',\n",
       " 'antique',\n",
       " 'aphorisms',\n",
       " 'architecture',\n",
       " 'art',\n",
       " 'astrology',\n",
       " 'auto',\n",
       " 'banking',\n",
       " 'behavior',\n",
       " 'biography',\n",
       " 'biology',\n",
       " 'book',\n",
       " 'budda',\n",
       " 'business',\n",
       " 'chem',\n",
       " 'child',\n",
       " 'children',\n",
       " 'childs',\n",
       " 'christianity',\n",
       " 'cine',\n",
       " 'city',\n",
       " 'classic',\n",
       " 'classical',\n",
       " 'classics',\n",
       " 'collecting',\n",
       " 'comedy',\n",
       " 'comp',\n",
       " 'computers',\n",
       " 'contemporary',\n",
       " 'cooking',\n",
       " 'cosmos',\n",
       " 'counter',\n",
       " 'crafts',\n",
       " 'crime',\n",
       " 'criticism',\n",
       " 'culture',\n",
       " 'cyberpunk',\n",
       " 'db',\n",
       " 'design',\n",
       " 'det',\n",
       " 'detective',\n",
       " 'dict',\n",
       " 'diy',\n",
       " 'dramaturgy',\n",
       " 'east',\n",
       " 'economics',\n",
       " 'economy',\n",
       " 'education',\n",
       " 'encyc',\n",
       " 'entertain',\n",
       " 'epic',\n",
       " 'epistolary',\n",
       " 'equ',\n",
       " 'erotica',\n",
       " 'esoterics',\n",
       " 'espionage',\n",
       " 'etc',\n",
       " 'european',\n",
       " 'fairy',\n",
       " 'family',\n",
       " 'fanfiction',\n",
       " 'fantasy',\n",
       " 'fiction',\n",
       " 'fight',\n",
       " 'finance',\n",
       " 'folklore',\n",
       " 'foreign',\n",
       " 'game',\n",
       " 'garden',\n",
       " 'geo',\n",
       " 'geography',\n",
       " 'gothic',\n",
       " 'great',\n",
       " 'guide',\n",
       " 'guides',\n",
       " 'hard',\n",
       " 'health',\n",
       " 'heroic',\n",
       " 'higher',\n",
       " 'history',\n",
       " 'home',\n",
       " 'horror',\n",
       " 'hronoopera',\n",
       " 'humor',\n",
       " 'hunting',\n",
       " 'indian',\n",
       " 'irony',\n",
       " 'islam',\n",
       " 'job',\n",
       " 'judaism',\n",
       " 'juris',\n",
       " 'legal',\n",
       " 'linguistic',\n",
       " 'literature',\n",
       " 'litrpg',\n",
       " 'love',\n",
       " 'lyrics',\n",
       " 'magic',\n",
       " 'management',\n",
       " 'maniac',\n",
       " 'maritime',\n",
       " 'marketing',\n",
       " 'math',\n",
       " 'medical',\n",
       " 'medicine',\n",
       " 'military',\n",
       " 'modern',\n",
       " 'music',\n",
       " 'mystic',\n",
       " 'myths',\n",
       " 'neformatny',\n",
       " 'network',\n",
       " 'nonf',\n",
       " 'nonfiction',\n",
       " 'notes',\n",
       " 'novel',\n",
       " 'opera',\n",
       " 'org',\n",
       " 'orthodoxy',\n",
       " 'other',\n",
       " 'paganism',\n",
       " 'painting',\n",
       " 'pedagogy',\n",
       " 'personal',\n",
       " 'pets',\n",
       " 'philology',\n",
       " 'philosophy',\n",
       " 'phys',\n",
       " 'poem',\n",
       " 'poetry',\n",
       " 'police',\n",
       " 'political',\n",
       " 'politics',\n",
       " 'popular',\n",
       " 'postapocalyptic',\n",
       " 'prose',\n",
       " 'psy',\n",
       " 'psychology',\n",
       " 'publicism',\n",
       " 'ref',\n",
       " 'reference',\n",
       " 'regulations',\n",
       " 'rel',\n",
       " 'religion',\n",
       " 'roman',\n",
       " 'romance',\n",
       " 'rus',\n",
       " 'russian',\n",
       " 'sagas',\n",
       " 'satire',\n",
       " 'school',\n",
       " 'sci',\n",
       " 'science',\n",
       " 'screenplays',\n",
       " 'secondary',\n",
       " 'self',\n",
       " 'sex',\n",
       " 'sf',\n",
       " 'short',\n",
       " 'social',\n",
       " 'song',\n",
       " 'space',\n",
       " 'special',\n",
       " 'sport',\n",
       " 'stimpank',\n",
       " 'stock',\n",
       " 'story',\n",
       " 'studies',\n",
       " 'su',\n",
       " 'tale',\n",
       " 'tbg',\n",
       " 'tech',\n",
       " 'technofantasy',\n",
       " 'textbook',\n",
       " 'theatre',\n",
       " 'theories',\n",
       " 'thriller',\n",
       " 'travel',\n",
       " 'unfinished',\n",
       " 'unrecognised',\n",
       " 'verse',\n",
       " 'weapon',\n",
       " 'western',\n",
       " 'world',\n",
       " 'www',\n",
       " 'zoo'}"
      ]
     },
     "execution_count": 4,
     "metadata": {},
     "output_type": "execute_result"
    }
   ],
   "source": [
    "genres"
   ]
  },
  {
   "cell_type": "markdown",
   "metadata": {},
   "source": [
    "### основные жанры (для дополнительной функции)"
   ]
  },
  {
   "cell_type": "code",
   "execution_count": 5,
   "metadata": {},
   "outputs": [],
   "source": [
    "gen = {'экшн':'action',\n",
    "       \"литРПГ\":'litrpg',\n",
    "       'приключения':'adventure',\n",
    "       \"архитектура\":'architecture',\n",
    "       \"биография\":'biography',\n",
    "       \"детское\":'child',\n",
    "       \"научная фантастика\":'sci sf',\n",
    "       \"классическое\":'classic classical',\n",
    "       \"комедия\":'comedy',\n",
    "       \"преступления\":'crime',\n",
    "       \"фантастика\":'fiction fantasy',\n",
    "       \"киберпанк\":'cyberpunk',\n",
    "       \"детектив\":'det detective',\n",
    "       \"драма\":'dramaturgy',\n",
    "       \"сказочное\":'fairy',\n",
    "       \"фольколёр\":'folklore',\n",
    "       \"ужас\":'horror',\n",
    "       \"философия\":'philosophy',\n",
    "       \"постапокалипсис\":'postapocalyptic',\n",
    "       \"проза\":'prose',\n",
    "       \"роман\":'romance roman',\n",
    "       \"русское\":'russia',\n",
    "       \"сатира\":'satire',\n",
    "       \"наука\":'science',\n",
    "       \"космос\":'space',\n",
    "       \"социальное\":'social',\n",
    "       \"поэзия\":'poetry',\n",
    "       'животные':'animal'\n",
    "       }"
   ]
  },
  {
   "cell_type": "code",
   "execution_count": 6,
   "metadata": {},
   "outputs": [],
   "source": [
    "with open('genr_list.pkl', 'wb') as fw:\n",
    "        pickle.dump(gen, fw)"
   ]
  },
  {
   "cell_type": "code",
   "execution_count": 7,
   "metadata": {},
   "outputs": [
    {
     "data": {
      "text/html": [
       "<div>\n",
       "<style scoped>\n",
       "    .dataframe tbody tr th:only-of-type {\n",
       "        vertical-align: middle;\n",
       "    }\n",
       "\n",
       "    .dataframe tbody tr th {\n",
       "        vertical-align: top;\n",
       "    }\n",
       "\n",
       "    .dataframe thead th {\n",
       "        text-align: right;\n",
       "    }\n",
       "</style>\n",
       "<table border=\"1\" class=\"dataframe\">\n",
       "  <thead>\n",
       "    <tr style=\"text-align: right;\">\n",
       "      <th></th>\n",
       "      <th>Unnamed: 0</th>\n",
       "      <th>Unnamed: 0.1</th>\n",
       "      <th>Unnamed: 0.1.1</th>\n",
       "      <th>annotation</th>\n",
       "      <th>author</th>\n",
       "      <th>genres_x</th>\n",
       "      <th>title</th>\n",
       "      <th>id</th>\n",
       "      <th>year_y</th>\n",
       "      <th>freq</th>\n",
       "      <th>full_text</th>\n",
       "    </tr>\n",
       "  </thead>\n",
       "  <tbody>\n",
       "    <tr>\n",
       "      <th>0</th>\n",
       "      <td>0</td>\n",
       "      <td>0</td>\n",
       "      <td>0</td>\n",
       "      <td>мнению профессора элленберга математика это на...</td>\n",
       "      <td>Джордан Элленберг</td>\n",
       "      <td>popular math sci</td>\n",
       "      <td>как не ошибаться</td>\n",
       "      <td>9518</td>\n",
       "      <td>2014</td>\n",
       "      <td>20</td>\n",
       "      <td>наука элленберга осмысливать осознаем считавше...</td>\n",
       "    </tr>\n",
       "    <tr>\n",
       "      <th>1</th>\n",
       "      <td>1</td>\n",
       "      <td>1</td>\n",
       "      <td>1</td>\n",
       "      <td>итак добро пожаловать полный набор всё начала ...</td>\n",
       "      <td>Милослав Князев</td>\n",
       "      <td>sf fantasy</td>\n",
       "      <td>великая миссия</td>\n",
       "      <td>151215</td>\n",
       "      <td>2011</td>\n",
       "      <td>34</td>\n",
       "      <td>ушастые правка эльфийки круче великого использ...</td>\n",
       "    </tr>\n",
       "    <tr>\n",
       "      <th>2</th>\n",
       "      <td>2</td>\n",
       "      <td>2</td>\n",
       "      <td>2</td>\n",
       "      <td>айове стояло безоблачное весеннее утро преддве...</td>\n",
       "      <td>Рэй Брэдбери</td>\n",
       "      <td>prose contemporary</td>\n",
       "      <td>однаединственная ночь</td>\n",
       "      <td>105472</td>\n",
       "      <td>1988</td>\n",
       "      <td>12</td>\n",
       "      <td>заигравшись беспечально твеновский босоногий с...</td>\n",
       "    </tr>\n",
       "    <tr>\n",
       "      <th>3</th>\n",
       "      <td>3</td>\n",
       "      <td>3</td>\n",
       "      <td>3</td>\n",
       "      <td>вампир принцессе товарищ верно вампир принцесс...</td>\n",
       "      <td>Кира Александровна Филиппова</td>\n",
       "      <td>sf humor</td>\n",
       "      <td>от принцесс добра не ищут</td>\n",
       "      <td>240262</td>\n",
       "      <td>2008</td>\n",
       "      <td>23</td>\n",
       "      <td>вампир пускается принцессе представительным ко...</td>\n",
       "    </tr>\n",
       "    <tr>\n",
       "      <th>4</th>\n",
       "      <td>4</td>\n",
       "      <td>4</td>\n",
       "      <td>4</td>\n",
       "      <td>жизни екатерины миримановой автора системы мин...</td>\n",
       "      <td>Екатерина Валерьевна Мириманова</td>\n",
       "      <td>home sex sci psychology</td>\n",
       "      <td>мужчина и женщина минус 60 проблем в отношениях</td>\n",
       "      <td>273127</td>\n",
       "      <td>2012</td>\n",
       "      <td>40</td>\n",
       "      <td>системы отношения задумалась гармоничные мирим...</td>\n",
       "    </tr>\n",
       "  </tbody>\n",
       "</table>\n",
       "</div>"
      ],
      "text/plain": [
       "   Unnamed: 0  Unnamed: 0.1  Unnamed: 0.1.1  \\\n",
       "0           0             0               0   \n",
       "1           1             1               1   \n",
       "2           2             2               2   \n",
       "3           3             3               3   \n",
       "4           4             4               4   \n",
       "\n",
       "                                          annotation  \\\n",
       "0  мнению профессора элленберга математика это на...   \n",
       "1  итак добро пожаловать полный набор всё начала ...   \n",
       "2  айове стояло безоблачное весеннее утро преддве...   \n",
       "3  вампир принцессе товарищ верно вампир принцесс...   \n",
       "4  жизни екатерины миримановой автора системы мин...   \n",
       "\n",
       "                             author                 genres_x  \\\n",
       "0                Джордан Элленберг          popular math sci   \n",
       "1                  Милослав Князев                sf fantasy   \n",
       "2                     Рэй Брэдбери        prose contemporary   \n",
       "3     Кира Александровна Филиппова                  sf humor   \n",
       "4  Екатерина Валерьевна Мириманова   home sex sci psychology   \n",
       "\n",
       "                                             title      id  year_y  freq  \\\n",
       "0                                 как не ошибаться    9518    2014    20   \n",
       "1                                   великая миссия  151215    2011    34   \n",
       "2                            однаединственная ночь  105472    1988    12   \n",
       "3                        от принцесс добра не ищут  240262    2008    23   \n",
       "4  мужчина и женщина минус 60 проблем в отношениях  273127    2012    40   \n",
       "\n",
       "                                           full_text  \n",
       "0  наука элленберга осмысливать осознаем считавше...  \n",
       "1  ушастые правка эльфийки круче великого использ...  \n",
       "2  заигравшись беспечально твеновский босоногий с...  \n",
       "3  вампир пускается принцессе представительным ко...  \n",
       "4  системы отношения задумалась гармоничные мирим...  "
      ]
     },
     "execution_count": 7,
     "metadata": {},
     "output_type": "execute_result"
    }
   ],
   "source": [
    "df.head()"
   ]
  },
  {
   "cell_type": "markdown",
   "metadata": {},
   "source": [
    "### Поиск по названию ближайшей книги"
   ]
  },
  {
   "cell_type": "code",
   "execution_count": 10,
   "metadata": {},
   "outputs": [],
   "source": [
    "def _clean(text):\n",
    "    text = text.lower()\n",
    "    text = re.sub(r'[^\\w\\s]', '', text)\n",
    "    text = re.sub(r'\\_', ' ', text)\n",
    "    return text"
   ]
  },
  {
   "cell_type": "code",
   "execution_count": 11,
   "metadata": {},
   "outputs": [],
   "source": [
    "def find(name):\n",
    "    name = set(_clean(name).split())\n",
    "    best = [0, 0]\n",
    "    for i in range(len(df)):\n",
    "        temp = set(df['title'][i].lower().split())\n",
    "        if temp == name:\n",
    "            return i\n",
    "        elif len(name.intersection(temp)) > best[0]:\n",
    "            best[0] = len(name.intersection(temp))\n",
    "            best[1] = i\n",
    "    return best[1]"
   ]
  },
  {
   "cell_type": "markdown",
   "metadata": {},
   "source": [
    "### Модель"
   ]
  },
  {
   "cell_type": "code",
   "execution_count": 12,
   "metadata": {},
   "outputs": [],
   "source": [
    "from gensim.models import Word2Vec"
   ]
  },
  {
   "cell_type": "markdown",
   "metadata": {},
   "source": [
    "В датасете есть annotation (полное описание) и full_text (выбранные с помощью Tfidf.feature_extraction). \n",
    "Обучение на annotation работает лучше"
   ]
  },
  {
   "cell_type": "code",
   "execution_count": 13,
   "metadata": {},
   "outputs": [],
   "source": [
    "data  = list(df['full_text'])"
   ]
  },
  {
   "cell_type": "code",
   "execution_count": 14,
   "metadata": {},
   "outputs": [],
   "source": [
    "for i in range(len(data)):\n",
    "    data[i] = data[i].split()"
   ]
  },
  {
   "cell_type": "code",
   "execution_count": 16,
   "metadata": {},
   "outputs": [],
   "source": [
    "w2v_model = Word2Vec(min_count=5,\n",
    "                     window=2,\n",
    "                     size=300,\n",
    "                     sample=6e-5, \n",
    "                     alpha=0.03, \n",
    "                     min_alpha=0.0007, \n",
    "                     negative=20,\n",
    "                     workers=4)"
   ]
  },
  {
   "cell_type": "code",
   "execution_count": 17,
   "metadata": {},
   "outputs": [],
   "source": [
    "w2v_model.build_vocab(data)"
   ]
  },
  {
   "cell_type": "code",
   "execution_count": 18,
   "metadata": {},
   "outputs": [
    {
     "data": {
      "text/plain": [
       "(2005607, 8774100)"
      ]
     },
     "execution_count": 18,
     "metadata": {},
     "output_type": "execute_result"
    }
   ],
   "source": [
    "w2v_model.train(data, total_examples=w2v_model.corpus_count, epochs=30, report_delay=1)"
   ]
  },
  {
   "cell_type": "code",
   "execution_count": 12,
   "metadata": {},
   "outputs": [],
   "source": [
    "w2v_model.save('descr_w2v.model')"
   ]
  },
  {
   "cell_type": "code",
   "execution_count": 15,
   "metadata": {},
   "outputs": [],
   "source": [
    "w2v_model = Word2Vec.load('descr_w2v.model')"
   ]
  },
  {
   "cell_type": "code",
   "execution_count": 16,
   "metadata": {},
   "outputs": [],
   "source": [
    "gv = CountVectorizer()\n",
    "X = gv.fit_transform(df['genres_x'])"
   ]
  },
  {
   "cell_type": "code",
   "execution_count": 18,
   "metadata": {},
   "outputs": [],
   "source": [
    "with open('genres_vec.pkl', 'wb') as fw:\n",
    "        pickle.dump(gv.vocabulary_, fw)"
   ]
  },
  {
   "cell_type": "code",
   "execution_count": 17,
   "metadata": {},
   "outputs": [],
   "source": [
    "X = np.array(X.todense())"
   ]
  },
  {
   "cell_type": "markdown",
   "metadata": {},
   "source": [
    "### Векторизация"
   ]
  },
  {
   "cell_type": "code",
   "execution_count": 20,
   "metadata": {},
   "outputs": [],
   "source": [
    "def to_vec(mod,sent,gv,genre):\n",
    "    sent = sent.split()\n",
    "    v = np.zeros((300,))\n",
    "    for word in sent:\n",
    "        if word in mod.wv:\n",
    "            v+=mod.wv[word]\n",
    "    v/=len(sent)\n",
    "    gen = np.array(gv.transform([genre]).todense())[0]\n",
    "    v = np.hstack((v, gen))\n",
    "    return v"
   ]
  },
  {
   "cell_type": "code",
   "execution_count": 23,
   "metadata": {},
   "outputs": [
    {
     "ename": "OSError",
     "evalue": "Invalid argument",
     "output_type": "error",
     "traceback": [
      "\u001b[1;31m---------------------------------------------------------------------------\u001b[0m",
      "\u001b[1;31mOSError\u001b[0m                                   Traceback (most recent call last)",
      "\u001b[1;32m<ipython-input-23-998e717044e1>\u001b[0m in \u001b[0;36m<module>\u001b[1;34m\u001b[0m\n\u001b[0;32m      5\u001b[0m     \u001b[0manwv\u001b[0m\u001b[1;33m.\u001b[0m\u001b[0madd_item\u001b[0m\u001b[1;33m(\u001b[0m\u001b[0mi\u001b[0m\u001b[1;33m,\u001b[0m \u001b[0mto_vec\u001b[0m\u001b[1;33m(\u001b[0m\u001b[0mw2v_model\u001b[0m\u001b[1;33m,\u001b[0m\u001b[0mannots\u001b[0m\u001b[1;33m[\u001b[0m\u001b[0mi\u001b[0m\u001b[1;33m]\u001b[0m\u001b[1;33m,\u001b[0m \u001b[0mgv\u001b[0m\u001b[1;33m,\u001b[0m\u001b[0mgenres\u001b[0m\u001b[1;33m[\u001b[0m\u001b[0mi\u001b[0m\u001b[1;33m]\u001b[0m \u001b[1;33m)\u001b[0m\u001b[1;33m)\u001b[0m\u001b[1;33m\u001b[0m\u001b[1;33m\u001b[0m\u001b[0m\n\u001b[0;32m      6\u001b[0m \u001b[0manwv\u001b[0m\u001b[1;33m.\u001b[0m\u001b[0mbuild\u001b[0m\u001b[1;33m(\u001b[0m\u001b[1;36m10\u001b[0m\u001b[1;33m)\u001b[0m\u001b[1;33m\u001b[0m\u001b[1;33m\u001b[0m\u001b[0m\n\u001b[1;32m----> 7\u001b[1;33m \u001b[0manwv\u001b[0m\u001b[1;33m.\u001b[0m\u001b[0msave\u001b[0m\u001b[1;33m(\u001b[0m\u001b[1;34m'descr.ann'\u001b[0m\u001b[1;33m)\u001b[0m\u001b[1;33m\u001b[0m\u001b[1;33m\u001b[0m\u001b[0m\n\u001b[0m",
      "\u001b[1;31mOSError\u001b[0m: Invalid argument"
     ]
    }
   ],
   "source": [
    "anwv = AnnoyIndex(300+len(gv.vocabulary_), 'angular')\n",
    "annots = df['full_text']\n",
    "genres = df['genres_x']\n",
    "for i in range(len(annots)):     \n",
    "    anwv.add_item(i, to_vec(w2v_model,annots[i], gv,genres[i] ))\n",
    "anwv.build(10)\n",
    "#anwv.save('descr.ann')"
   ]
  },
  {
   "cell_type": "code",
   "execution_count": 18,
   "metadata": {},
   "outputs": [
    {
     "data": {
      "text/plain": [
       "True"
      ]
     },
     "execution_count": 18,
     "metadata": {},
     "output_type": "execute_result"
    }
   ],
   "source": [
    "anwv = AnnoyIndex(300+len(gv.vocabulary_), 'angular')\n",
    "anwv.load('descr.ann')"
   ]
  },
  {
   "cell_type": "markdown",
   "metadata": {},
   "source": [
    "### Тестирование"
   ]
  },
  {
   "cell_type": "code",
   "execution_count": 21,
   "metadata": {},
   "outputs": [],
   "source": [
    "nm = 'Гари Поттер'\n",
    "ind = find(nm)\n",
    "av = to_vec(w2v_model, df['full_text'][ind], gv,df['genres_x'][ind])\n",
    "res = anwv.get_nns_by_vector(av, 10)\n"
   ]
  },
  {
   "cell_type": "code",
   "execution_count": 22,
   "metadata": {},
   "outputs": [
    {
     "data": {
      "text/plain": [
       "2817     гарри поттер и дары смерти\n",
       "8571                медная перчатка\n",
       "16556                      дом аида\n",
       "2752                  тени прошлого\n",
       "5602                 бронзовый ключ\n",
       "1611                      центурион\n",
       "7083               золотое снадобье\n",
       "7339         одд и ледяные великаны\n",
       "5165                    власть огня\n",
       "12113                       трианон\n",
       "Name: title, dtype: object"
      ]
     },
     "execution_count": 22,
     "metadata": {},
     "output_type": "execute_result"
    }
   ],
   "source": [
    "df['title'][res]"
   ]
  },
  {
   "cell_type": "code",
   "execution_count": null,
   "metadata": {},
   "outputs": [],
   "source": []
  }
 ],
 "metadata": {
  "kernelspec": {
   "display_name": "Python 3",
   "language": "python",
   "name": "python3"
  },
  "language_info": {
   "codemirror_mode": {
    "name": "ipython",
    "version": 3
   },
   "file_extension": ".py",
   "mimetype": "text/x-python",
   "name": "python",
   "nbconvert_exporter": "python",
   "pygments_lexer": "ipython3",
   "version": "3.7.3"
  },
  "toc": {
   "base_numbering": 1,
   "nav_menu": {},
   "number_sections": true,
   "sideBar": true,
   "skip_h1_title": false,
   "title_cell": "Table of Contents",
   "title_sidebar": "Contents",
   "toc_cell": false,
   "toc_position": {},
   "toc_section_display": true,
   "toc_window_display": false
  },
  "varInspector": {
   "cols": {
    "lenName": 16,
    "lenType": 16,
    "lenVar": 40
   },
   "kernels_config": {
    "python": {
     "delete_cmd_postfix": "",
     "delete_cmd_prefix": "del ",
     "library": "var_list.py",
     "varRefreshCmd": "print(var_dic_list())"
    },
    "r": {
     "delete_cmd_postfix": ") ",
     "delete_cmd_prefix": "rm(",
     "library": "var_list.r",
     "varRefreshCmd": "cat(var_dic_list()) "
    }
   },
   "types_to_exclude": [
    "module",
    "function",
    "builtin_function_or_method",
    "instance",
    "_Feature"
   ],
   "window_display": false
  }
 },
 "nbformat": 4,
 "nbformat_minor": 2
}
